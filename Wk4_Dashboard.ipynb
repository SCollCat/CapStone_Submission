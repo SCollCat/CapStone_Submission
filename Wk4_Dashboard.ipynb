{
    "cells": [
        {
            "cell_type": "markdown",
            "metadata": {
                "collapsed": true
            },
            "source": "<h3> The following is a copy  of the dashboard code created through coursera Skills Network Labs  </h3>"
        },
        {
            "cell_type": "markdown",
            "metadata": {},
            "source": "<p>Note:  Since the Lab cannot be downloaded and uploaded into Watson, this notebook serves only to show the code and process of the lab</p>"
        },
        {
            "cell_type": "code",
            "execution_count": 5,
            "metadata": {
                "collapsed": true
            },
            "outputs": [
                {
                    "name": "stdout",
                    "output_type": "stream",
                    "text": "Requirement already satisfied: pandas in /opt/conda/envs/Python-3.8-main/lib/python3.8/site-packages (1.2.4)\nCollecting dash\n  Downloading dash-2.1.0-py3-none-any.whl (7.4 MB)\n\u001b[K     |\u2588\u2588\u2588\u2588\u2588\u2588\u2588\u2588\u2588\u2588\u2588\u2588\u2588\u2588\u2588\u2588\u2588\u2588\u2588\u2588\u2588\u2588\u2588\u2588\u2588\u2588\u2588\u2588\u2588\u2588\u2588\u2588| 7.4 MB 17.7 MB/s eta 0:00:01\n\u001b[?25hRequirement already satisfied: python-dateutil>=2.7.3 in /opt/conda/envs/Python-3.8-main/lib/python3.8/site-packages (from pandas) (2.8.1)\nRequirement already satisfied: pytz>=2017.3 in /opt/conda/envs/Python-3.8-main/lib/python3.8/site-packages (from pandas) (2021.1)\nRequirement already satisfied: numpy>=1.16.5 in /opt/conda/envs/Python-3.8-main/lib/python3.8/site-packages (from pandas) (1.19.2)\nRequirement already satisfied: six>=1.5 in /opt/conda/envs/Python-3.8-main/lib/python3.8/site-packages (from python-dateutil>=2.7.3->pandas) (1.15.0)\nCollecting plotly>=5.0.0\n  Downloading plotly-5.6.0-py2.py3-none-any.whl (27.7 MB)\n\u001b[K     |\u2588\u2588\u2588\u2588\u2588\u2588\u2588\u2588\u2588\u2588\u2588\u2588\u2588\u2588\u2588\u2588\u2588\u2588\u2588\u2588\u2588\u2588\u2588\u2588\u2588\u2588\u2588\u2588\u2588\u2588\u2588\u2588| 27.7 MB 70.8 MB/s eta 0:00:01\n\u001b[?25hCollecting dash-core-components==2.0.0\n  Downloading dash_core_components-2.0.0.tar.gz (3.4 kB)\nCollecting dash-html-components==2.0.0\n  Downloading dash_html_components-2.0.0.tar.gz (3.8 kB)\nCollecting dash-table==5.0.0\n  Downloading dash_table-5.0.0.tar.gz (3.4 kB)\nCollecting flask-compress\n  Downloading Flask_Compress-1.10.1-py3-none-any.whl (7.9 kB)\nCollecting Flask>=1.0.4\n  Downloading Flask-2.0.3-py3-none-any.whl (95 kB)\n\u001b[K     |\u2588\u2588\u2588\u2588\u2588\u2588\u2588\u2588\u2588\u2588\u2588\u2588\u2588\u2588\u2588\u2588\u2588\u2588\u2588\u2588\u2588\u2588\u2588\u2588\u2588\u2588\u2588\u2588\u2588\u2588\u2588\u2588| 95 kB 9.2 MB/s  eta 0:00:01\n\u001b[?25hCollecting itsdangerous>=2.0\n  Downloading itsdangerous-2.0.1-py3-none-any.whl (18 kB)\nRequirement already satisfied: Werkzeug>=2.0 in /opt/conda/envs/Python-3.8-main/lib/python3.8/site-packages (from Flask>=1.0.4->dash) (2.0.1)\nRequirement already satisfied: click>=7.1.2 in /opt/conda/envs/Python-3.8-main/lib/python3.8/site-packages (from Flask>=1.0.4->dash) (7.1.2)\nRequirement already satisfied: Jinja2>=3.0 in /opt/conda/envs/Python-3.8-main/lib/python3.8/site-packages (from Flask>=1.0.4->dash) (3.0.0)\nRequirement already satisfied: MarkupSafe>=2.0.0rc2 in /opt/conda/envs/Python-3.8-main/lib/python3.8/site-packages (from Jinja2>=3.0->Flask>=1.0.4->dash) (2.0.1)\nCollecting tenacity>=6.2.0\n  Downloading tenacity-8.0.1-py3-none-any.whl (24 kB)\nCollecting brotli\n  Downloading Brotli-1.0.9-cp38-cp38-manylinux1_x86_64.whl (357 kB)\n\u001b[K     |\u2588\u2588\u2588\u2588\u2588\u2588\u2588\u2588\u2588\u2588\u2588\u2588\u2588\u2588\u2588\u2588\u2588\u2588\u2588\u2588\u2588\u2588\u2588\u2588\u2588\u2588\u2588\u2588\u2588\u2588\u2588\u2588| 357 kB 37.0 MB/s eta 0:00:01\n\u001b[?25hBuilding wheels for collected packages: dash-core-components, dash-html-components, dash-table\n  Building wheel for dash-core-components (setup.py) ... \u001b[?25ldone\n\u001b[?25h  Created wheel for dash-core-components: filename=dash_core_components-2.0.0-py3-none-any.whl size=3804 sha256=0a9deb2bf2702ba439ffb287b87196eda335e5b2de562713f86490966c300be9\n  Stored in directory: /tmp/wsuser/.cache/pip/wheels/52/e4/f3/16724791571a955a46d54650510c98c04ab7d339626aee27cc\n  Building wheel for dash-html-components (setup.py) ... \u001b[?25ldone\n\u001b[?25h  Created wheel for dash-html-components: filename=dash_html_components-2.0.0-py3-none-any.whl size=4069 sha256=fd89d841c4c8ee98b9dc3d021eeed5794f0097342d3740c54e0817ab1c189839\n  Stored in directory: /tmp/wsuser/.cache/pip/wheels/73/d8/8d/92f612c03c895f19bcc56a6c54be7bb41aaa698012a5624f60\n  Building wheel for dash-table (setup.py) ... \u001b[?25ldone\n\u001b[?25h  Created wheel for dash-table: filename=dash_table-5.0.0-py3-none-any.whl size=3897 sha256=239673bdf8bbd35345283d21ab5e4ae3d29803c090c03ca9772ac55a4ff97f28\n  Stored in directory: /tmp/wsuser/.cache/pip/wheels/a6/fb/f5/4adf241f384634f52028f15eab6a325e77b8766a0a00816bbf\nSuccessfully built dash-core-components dash-html-components dash-table\nInstalling collected packages: itsdangerous, tenacity, Flask, brotli, plotly, flask-compress, dash-table, dash-html-components, dash-core-components, dash\n  Attempting uninstall: plotly\n    Found existing installation: plotly 4.14.3\n    Uninstalling plotly-4.14.3:\n      Successfully uninstalled plotly-4.14.3\nSuccessfully installed Flask-2.0.3 brotli-1.0.9 dash-2.1.0 dash-core-components-2.0.0 dash-html-components-2.0.0 dash-table-5.0.0 flask-compress-1.10.1 itsdangerous-2.0.1 plotly-5.6.0 tenacity-8.0.1\nNote: you may need to restart the kernel to use updated packages.\n"
                }
            ],
            "source": "pip install pandas dash\n"
        },
        {
            "cell_type": "code",
            "execution_count": 6,
            "metadata": {
                "collapsed": true
            },
            "outputs": [
                {
                    "name": "stderr",
                    "output_type": "stream",
                    "text": "/tmp/wsuser/ipykernel_1059/1399112611.py:4: UserWarning: \nThe dash_html_components package is deprecated. Please replace\n`import dash_html_components as html` with `from dash import html`\n  import dash_html_components as html\n/tmp/wsuser/ipykernel_1059/1399112611.py:5: UserWarning: \nThe dash_core_components package is deprecated. Please replace\n`import dash_core_components as dcc` with `from dash import dcc`\n  import dash_core_components as dcc\n"
                }
            ],
            "source": "# Import required libraries\nimport pandas as pd\nimport dash\nimport dash_html_components as html\nimport dash_core_components as dcc\nfrom dash.dependencies import Input, Output\nimport plotly.express as px"
        },
        {
            "cell_type": "code",
            "execution_count": 7,
            "metadata": {},
            "outputs": [],
            "source": "path = 'https://cf-courses-data.s3.us.cloud-object-storage.appdomain.cloud/IBM-DS0321EN-SkillsNetwork/datasets/spacex_launch_dash.csv'\ndf = pd.read_csv(path)\ndf.to_csv('spacex_launch_dash.csv')"
        },
        {
            "cell_type": "code",
            "execution_count": 8,
            "metadata": {},
            "outputs": [
                {
                    "name": "stdout",
                    "output_type": "stream",
                    "text": "Dash is running on http://127.0.0.1:8050/\n\n * Serving Flask app '__main__' (lazy loading)\n * Environment: production\n\u001b[31m   WARNING: This is a development server. Do not use it in a production deployment.\u001b[0m\n\u001b[2m   Use a production WSGI server instead.\u001b[0m\n * Debug mode: off\n"
                },
                {
                    "name": "stderr",
                    "output_type": "stream",
                    "text": " * Running on http://127.0.0.1:8050/ (Press CTRL+C to quit)\n"
                }
            ],
            "source": "#The following code is what creates the Dashboard shown in the powerpoint presentation.\n#To replicate, copy the framework below and use the file in the previous cells of this notebook.\n\n# Read the airline data into pandas dataframe\nspacex_df = pd.read_csv(\"spacex_launch_dash.csv\")\nmax_payload = spacex_df['Payload Mass (kg)'].max()\nmin_payload = spacex_df['Payload Mass (kg)'].min()\n\n# Create a dash application\napp = dash.Dash(__name__)\n\n# Create an app layout\napp.layout = html.Div(children=[html.H1('SpaceX Launch Records Dashboard',\n                                        style={'textAlign': 'center', 'color': '#503D36',\n                                               'font-size': 40}),\n                                # TASK 1: Add a dropdown list to enable Launch Site selection\n                                # The default select value is for ALL sites\n                                # dcc.Dropdown(id='site-dropdown',...)\n                                html.Div\n                                    ([\n                                        dcc.Dropdown\n                                            (\n                                                id = 'site-dropdown',\n                                                options = \n                                                    [\n                                                        {'label': 'ALL Sites', 'value':'ALL'},\n                                                        {'label': 'CCAFS LC-40', 'value':'CCAFS LC-40'},\n                                                        {'label': 'KSC LC-39A', 'value':'KSC LC-39A'},\n                                                        {'label': 'VAFB SLC-4E', 'value':'VAFB SLC-4E'},\n                                                        {'label': 'CCAFS SLC-40', 'value':'CCAFS SLC-40'},\n                                                    ],\n                                                value='ALL',\n                                                placeholder='Select Site',\n                                                searchable=True\n                                            )\n                                    ]),    \n                                html.Br(),\n\n                                # TASK 2: Add a pie chart to show the total successful launches count for all sites\n                                # If a specific launch site was selected, show the Success vs. Failed counts for the site\n                                html.Div([dcc.Graph(id='success-pie-chart')]),\n                                html.Br(),\n\n                                html.P(\"Payload range (Kg):\"),\n                                # TASK 3: Add a slider to select payload range\n                                #dcc.RangeSlider(id='payload-slider',...)\n  \n                                dcc.RangeSlider\n                                    (\n                                        id='payload-slider',\n                                        min=0, \n                                        max=10000, \n                                        step=1000,\n                                        marks=\n                                            {\n                                                0: '0',\n                                                1000:'1000',\n                                                2000:'2000',\n                                                3000:'3000',\n                                                4000:'4000',\n                                                5000:'5000',\n                                                6000:'6000',\n                                                7000:'7000',\n                                                8000:'8000',\n                                                9000:'9000',\n                                                10000:'10000',\n                                            },\n                                        value=[0, 1000]\n                                    ),\n  \n                                html.Br(),\n                                # TASK 4: Add a scatter chart to show the correlation between payload and launch success\n                                html.Div([dcc.Graph(id='success-payload-scatter-chart')])\n\n                                ])\n\n# TASK 2:\n# Add a callback function for `site-dropdown` as input, `success-pie-chart` as output\n@app.callback(Output('success-pie-chart', 'figure'),\n              Input('site-dropdown', 'value'))\n\ndef get_pie_chart(value):\n    \n    if value == 'ALL':\n        A= spacex_df[spacex_df['class']==1]\n        figure = px.pie(\n                data_frame=A, \n                values='class', \n                names='Launch Site',\n                title='All Sites'\n            )\n        \n    else:\n        filtered_df = spacex_df[['Launch Site', 'class']]\n        B = filtered_df.groupby('Launch Site')['class'].value_counts().reset_index(name='counts')\n        figure = px.pie(\n                data_frame=B[B['Launch Site'] == value],\n                values='counts', \n                names='class',\n                color='class',\n                color_discrete_map={1: 'rgb(204,255,204)', 0: 'rgb(229,204,255)'},\n                title=value\n            )   \n    return figure\n        # return the outcomes piechart for a selected site\n        \n# TASK 4:\n# Add a callback function for `site-dropdown` and `payload-slider` as inputs, `success-payload-scatter-chart` as output\n@app.callback(Output('success-payload-scatter-chart', 'figure'),\n              Input('site-dropdown', 'value'),\n              Input('payload-slider', 'value')\n             )  \ndef get_scatter_chart(site,payload):\n    df = spacex_df[['Launch Site', 'Payload Mass (kg)', 'Booster Version Category' , 'class']]\n    A = df.groupby(['Launch Site', 'Payload Mass (kg)', 'Booster Version Category'])['class'].value_counts().reset_index(name='counts')\n    B =A[A['Payload Mass (kg)'].between(payload[0],payload[1])]\n    if site =='ALL':\n        \n        fig = px.scatter(\n                data_frame =B,\n                x = 'Payload Mass (kg)',\n                y = 'class',\n                color = 'Booster Version Category'         \n            )\n    else:\n        A = df[df['Launch Site']==site]\n        B=A[A['Payload Mass (kg)'].between(payload[0],payload[1])]\n        C = B.groupby(['Launch Site', 'Payload Mass (kg)', 'Booster Version Category'])['class'].value_counts().reset_index(name='counts')\n\n        fig = px.scatter(\n                data_frame =C,\n                x = 'Payload Mass (kg)',\n                y = 'class',\n                color = 'Booster Version Category'         \n            )\n\n    return fig\n\n# Run the app\nif __name__ == '__main__':\n    app.run_server()"
        },
        {
            "cell_type": "code",
            "execution_count": null,
            "metadata": {},
            "outputs": [],
            "source": ""
        }
    ],
    "metadata": {
        "kernelspec": {
            "display_name": "Python 3.8",
            "language": "python",
            "name": "python3"
        },
        "language_info": {
            "codemirror_mode": {
                "name": "ipython",
                "version": 3
            },
            "file_extension": ".py",
            "mimetype": "text/x-python",
            "name": "python",
            "nbconvert_exporter": "python",
            "pygments_lexer": "ipython3",
            "version": "3.8.12"
        }
    },
    "nbformat": 4,
    "nbformat_minor": 1
}